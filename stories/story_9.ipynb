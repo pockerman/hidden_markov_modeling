{
 "cells": [
  {
   "cell_type": "code",
   "execution_count": 1,
   "metadata": {},
   "outputs": [],
   "source": [
    "import sys\n",
    "sys.path.append(\"../\")"
   ]
  },
  {
   "cell_type": "code",
   "execution_count": 2,
   "metadata": {},
   "outputs": [],
   "source": [
    "from sklearn import mixture\n",
    "from sklearn import metrics\n",
    "from sklearn.cluster import KMeans"
   ]
  },
  {
   "cell_type": "code",
   "execution_count": 3,
   "metadata": {},
   "outputs": [],
   "source": [
    "import numpy as np\n",
    "import matplotlib.pyplot as plt\n",
    "import seaborn as sns"
   ]
  },
  {
   "cell_type": "code",
   "execution_count": 4,
   "metadata": {},
   "outputs": [],
   "source": [
    "sns.set(color_codes=True)"
   ]
  },
  {
   "cell_type": "code",
   "execution_count": 5,
   "metadata": {},
   "outputs": [],
   "source": [
    "def load_data_file(filename):\n",
    "\n",
    "    with open(filename) as file:\n",
    "        context = file.read()\n",
    "        size = len(context)\n",
    "        arraystr= context[1:size-1]\n",
    "        arraystr = arraystr.split(',')\n",
    "        region_means = [float(item) for item in arraystr]\n",
    "        return region_means"
   ]
  },
  {
   "cell_type": "code",
   "execution_count": 6,
   "metadata": {},
   "outputs": [],
   "source": [
    "wga_mean_file = \"/home/a/ag568/wga_windows_mean_0_MANHATAN_5_MEAN_RATIO.txt\"\n",
    "no_wga_mean_file = \"/home/a/ag568/no_wga_windows_mean_0_MANHATAN_5_MEAN_RATIO.txt\"\n",
    "gc_file = \"/home/a/ag568/no_wga_windows_mean_0_MANHATAN_5_MEAN_RATIO.txt\""
   ]
  },
  {
   "cell_type": "code",
   "execution_count": null,
   "metadata": {},
   "outputs": [],
   "source": [
    "wga_mu = load_data_file(filename=wga_mean_file)\n",
    "no_wga_mu = load_data_file(filename=no_wga_mean_file)\n",
    "gc = load_data_file(filename=gc_file)"
   ]
  },
  {
   "cell_type": "code",
   "execution_count": null,
   "metadata": {},
   "outputs": [],
   "source": [
    "assert len(wga_mu) == len(no_wga_mu)\n",
    "assert len(gc) == len(wga_mu)"
   ]
  },
  {
   "cell_type": "code",
   "execution_count": null,
   "metadata": {},
   "outputs": [],
   "source": [
    "print(\"Size of WGA sample {1}\".format(INFO, len(wga_mu)))\n",
    "print(\"WGA max: {1}\".format(INFO, max(wga_mu)))\n",
    "print(\"WGA min: {1}\".format(INFO, min(wga_mu)))\n",
    "print(\"WGA mean: {1}\".format(INFO, np.mean(wga_mu)))\n",
    "print(\"WGA var: {1}\".format(INFO, np.var(wga_mu)))"
   ]
  },
  {
   "cell_type": "code",
   "execution_count": null,
   "metadata": {},
   "outputs": [],
   "source": [
    "sns.distplot(wga_mu, bins=35, kde=False, rug=True)\n",
    "plt.xlabel(\"WGA means\")\n",
    "plt.show()"
   ]
  },
  {
   "cell_type": "code",
   "execution_count": null,
   "metadata": {},
   "outputs": [],
   "source": [
    "print(\"NO-WGA size {1}\".format(INFO, len(no_wga_mu)))\n",
    "print(\"NO-WGA max: {1}\".format(INFO, max(no_wga_mu)))\n",
    "print(\"NO-WGA min: {1}\".format(INFO, min(no_wga_mu)))\n",
    "print(\"NO-WGA mean: {1}\".format(INFO, np.mean(no_wga_mu)))\n",
    "print(\"NO-WGA var: {1}\".format(INFO, np.var(no_wga_mu)))"
   ]
  },
  {
   "cell_type": "code",
   "execution_count": null,
   "metadata": {},
   "outputs": [],
   "source": [
    "sns.distplot(no_wga_mu, bins=35, kde=False, rug=True)\n",
    "plt.xlabel(\"NO-WGA means\")\n",
    "plt.show()"
   ]
  },
  {
   "cell_type": "code",
   "execution_count": null,
   "metadata": {},
   "outputs": [],
   "source": [
    "print(\"GC size {1}\".format(INFO, len(gc)))\n",
    "print(\"GC max: {1}\".format(INFO, max(gc)))\n",
    "print(\"GC min: {1}\".format(INFO, min(gc)))\n",
    "print(\"GC mean: {1}\".format(INFO, np.mean(gc)))\n",
    "print(\"GC var: {1}\".format(INFO, np.var(gc)))"
   ]
  },
  {
   "cell_type": "code",
   "execution_count": null,
   "metadata": {},
   "outputs": [],
   "source": [
    "sns.distplot(gc, bins=35, kde=False, rug=True)\n",
    "plt.xlabel(\"Ref GC content\")\n",
    "plt.show()"
   ]
  },
  {
   "cell_type": "code",
   "execution_count": null,
   "metadata": {},
   "outputs": [],
   "source": [
    "def make_data_array(wga_mu, no_wga_mu, gc, use_ratio, use_gc):\n",
    "    data = []\n",
    "    \n",
    "    if use_ratio and use_gc:\n",
    "        for wga_val, no_wga_val, gc_val in zip(wga_mu, no_wga_mu, gc):\n",
    "            data.append([wga_val, no_wga_val, (wga_val + 1)/(no_wga_val + 1), gc_val])\n",
    "    elif use_ratio:\n",
    "        for wga, no_wga in zip(wga_mu, no_wga_mu):\n",
    "            data.append([wga, no_wga, (wga + 1)/(no_wga + 1)])\n",
    "    elif use_gc:\n",
    "        for wga_val, no_wga_val, gc_val in zip(wga_mu, no_wga_mu, gc):\n",
    "            data.append([wga_val, no_wga_val, gc_val])\n",
    "    else:\n",
    "        \n",
    "        for wga, no_wga in zip(wga_region_mean, no_wga_region_mean):\n",
    "            data.append([wga, no_wga])\n",
    "        \n",
    "    return data"
   ]
  },
  {
   "cell_type": "code",
   "execution_count": null,
   "metadata": {},
   "outputs": [],
   "source": [
    "def kmeans_clustering(clusters, data):\n",
    "    for nclusters in clusters:\n",
    "    \n",
    "        print(\"Number of clusters \", nclusters)\n",
    "        kmeans = KMeans(n_clusters=nclusters)\n",
    "        kmeans.fit(X=data)\n",
    "        labels = kmeans.labels_\n",
    "\n",
    "\n",
    "        calinski_harabasz_score = metrics.calinski_harabasz_score(data, labels)\n",
    "        print(\"Calinski score: \", calinski_harabasz_score)\n",
    "        davies_bouldin_score = metrics.davies_bouldin_score(data, labels)\n",
    "        print(\"Davies score: \", davies_bouldin_score)\n",
    "\n",
    "        colors = np.array(list(islice(cycle(['#377eb8', '#ff7f00', '#4daf4a',\n",
    "                                             '#f781bf', '#a65628', '#984ea3',\n",
    "                                             '#999999', '#e41a1c', '#dede00']),\n",
    "                                          int(max(labels) + 1))))\n",
    "\n",
    "        # add black color for outliers (if any)\n",
    "        colors = np.append(colors, [\"#000000\"])\n",
    "\n",
    "        plt.scatter(no_wga_mu, wga_mu,  color=colors[labels])\n",
    "        plt.xlabel(\"NO-WGA \")\n",
    "        plt.ylabel(\"WGA\")\n",
    "        plt.show()\n",
    "    "
   ]
  },
  {
   "cell_type": "code",
   "execution_count": null,
   "metadata": {},
   "outputs": [],
   "source": [
    "def gmm_clustering(clusters, data):\n",
    "    \n",
    "    for nclusters in clusters:\n",
    "    \n",
    "        print(\"Number of clusters \", nclusters)\n",
    "        gmm = mixture.GaussianMixture(n_components=nclusters,\n",
    "                                    covariance_type='full')\n",
    "        gmm.fit(data)\n",
    "        labels = gmm.predict(data)\n",
    "\n",
    "        colors = np.array(list(islice(cycle(['#377eb8', '#ff7f00', '#4daf4a',\n",
    "                                             '#f781bf', '#a65628', '#984ea3',\n",
    "                                             '#999999', '#e41a1c', '#dede00']),\n",
    "                                          int(max(labels) + 1))))\n",
    "\n",
    "\n",
    "        # add black color for outliers (if any)\n",
    "        colors = np.append(colors, [\"#000000\"])\n",
    "\n",
    "        plt.scatter(no_wga_mu, wga_mu,  color=colors[labels])\n",
    "        plt.xlabel(\"NO-WGA \")\n",
    "        plt.ylabel(\"WGA\")\n",
    "        plt.show()\n",
    "    "
   ]
  },
  {
   "cell_type": "code",
   "execution_count": null,
   "metadata": {},
   "outputs": [],
   "source": [
    "N_CLUSTERS = [2, 3, 4, 5]"
   ]
  },
  {
   "cell_type": "markdown",
   "metadata": {},
   "source": [
    "## Two means "
   ]
  },
  {
   "cell_type": "code",
   "execution_count": null,
   "metadata": {},
   "outputs": [],
   "source": [
    "data = make_data_array(wga_mu=wga_mu, \n",
    "                       no_wga_mu=no_wga_mu, gc=None, \n",
    "                       use_ratio=False, use_gc=False)\n",
    "\n",
    "data = np.array(data)\n",
    "\n",
    "assert data.shape == (len(wga_mu), 2)"
   ]
  },
  {
   "cell_type": "markdown",
   "metadata": {},
   "source": [
    "### KMeans Clustering"
   ]
  },
  {
   "cell_type": "code",
   "execution_count": 7,
   "metadata": {},
   "outputs": [
    {
     "ename": "NameError",
     "evalue": "name 'N_CLUSTERS' is not defined",
     "output_type": "error",
     "traceback": [
      "\u001b[0;31m---------------------------------------------------------------------------\u001b[0m",
      "\u001b[0;31mNameError\u001b[0m                                 Traceback (most recent call last)",
      "\u001b[0;32m<ipython-input-7-99f3724fe4bd>\u001b[0m in \u001b[0;36m<module>\u001b[0;34m\u001b[0m\n\u001b[0;32m----> 1\u001b[0;31m \u001b[0;32mfor\u001b[0m \u001b[0mnclusters\u001b[0m \u001b[0;32min\u001b[0m \u001b[0mN_CLUSTERS\u001b[0m\u001b[0;34m:\u001b[0m\u001b[0;34m\u001b[0m\u001b[0;34m\u001b[0m\u001b[0m\n\u001b[0m\u001b[1;32m      2\u001b[0m \u001b[0;34m\u001b[0m\u001b[0m\n\u001b[1;32m      3\u001b[0m     \u001b[0mprint\u001b[0m\u001b[0;34m(\u001b[0m\u001b[0;34m\"Number of clusters \"\u001b[0m\u001b[0;34m,\u001b[0m \u001b[0mnclusters\u001b[0m\u001b[0;34m)\u001b[0m\u001b[0;34m\u001b[0m\u001b[0;34m\u001b[0m\u001b[0m\n\u001b[1;32m      4\u001b[0m     \u001b[0mkmeans\u001b[0m \u001b[0;34m=\u001b[0m \u001b[0mKMeans\u001b[0m\u001b[0;34m(\u001b[0m\u001b[0mn_clusters\u001b[0m\u001b[0;34m=\u001b[0m\u001b[0mnclusters\u001b[0m\u001b[0;34m)\u001b[0m\u001b[0;34m\u001b[0m\u001b[0;34m\u001b[0m\u001b[0m\n\u001b[1;32m      5\u001b[0m     \u001b[0mkmeans\u001b[0m\u001b[0;34m.\u001b[0m\u001b[0mfit\u001b[0m\u001b[0;34m(\u001b[0m\u001b[0mX\u001b[0m\u001b[0;34m=\u001b[0m\u001b[0mdata\u001b[0m\u001b[0;34m)\u001b[0m\u001b[0;34m\u001b[0m\u001b[0;34m\u001b[0m\u001b[0m\n",
      "\u001b[0;31mNameError\u001b[0m: name 'N_CLUSTERS' is not defined"
     ]
    }
   ],
   "source": [
    "kmeans_clustering(clusters=N_CLUSTERS, data=data)\n"
   ]
  },
  {
   "cell_type": "markdown",
   "metadata": {},
   "source": [
    "### GMM Clustering"
   ]
  },
  {
   "cell_type": "code",
   "execution_count": null,
   "metadata": {},
   "outputs": [],
   "source": [
    "gmm_clustering(clusters=N_CLUSTERS, data=data)\n"
   ]
  },
  {
   "cell_type": "markdown",
   "metadata": {},
   "source": [
    "## Two means + Ratio"
   ]
  },
  {
   "cell_type": "code",
   "execution_count": null,
   "metadata": {},
   "outputs": [],
   "source": [
    "data = make_data_array(wga_mu=wga_mu, \n",
    "                       no_wga_mu=no_wga_mu, gc=None, \n",
    "                       use_ratio=True, use_gc=False)\n",
    "\n",
    "data = np.array(data)\n",
    "\n",
    "assert data.shape == (len(wga_mu), 3)"
   ]
  },
  {
   "cell_type": "markdown",
   "metadata": {},
   "source": [
    "### KMeans"
   ]
  },
  {
   "cell_type": "code",
   "execution_count": null,
   "metadata": {},
   "outputs": [],
   "source": [
    "kmeans_clustering(clusters=N_CLUSTERS, data=data)"
   ]
  },
  {
   "cell_type": "markdown",
   "metadata": {},
   "source": [
    "### GMM"
   ]
  },
  {
   "cell_type": "code",
   "execution_count": null,
   "metadata": {},
   "outputs": [],
   "source": [
    "gmm_clustering(clusters=N_CLUSTERS, data=data)"
   ]
  },
  {
   "cell_type": "markdown",
   "metadata": {},
   "source": [
    "## Two means + GC"
   ]
  },
  {
   "cell_type": "code",
   "execution_count": null,
   "metadata": {},
   "outputs": [],
   "source": [
    "data = make_data_array(wga_mu=wga_mu, \n",
    "                       no_wga_mu=no_wga_mu, gc=gc, \n",
    "                       use_ratio=False, use_gc=True)\n",
    "\n",
    "data = np.array(data)\n",
    "\n",
    "assert data.shape == (len(wga_mu), 3)"
   ]
  },
  {
   "cell_type": "markdown",
   "metadata": {},
   "source": [
    "### KMeans"
   ]
  },
  {
   "cell_type": "code",
   "execution_count": null,
   "metadata": {},
   "outputs": [],
   "source": [
    "kmeans_clustering(clusters=N_CLUSTERS, data=data)\n",
    " "
   ]
  },
  {
   "cell_type": "markdown",
   "metadata": {},
   "source": [
    "### GMM"
   ]
  },
  {
   "cell_type": "code",
   "execution_count": null,
   "metadata": {},
   "outputs": [],
   "source": [
    "gmm_clustering(clusters=N_CLUSTERS, data=data)"
   ]
  },
  {
   "cell_type": "markdown",
   "metadata": {},
   "source": [
    "## Two means + GC + Ratio"
   ]
  },
  {
   "cell_type": "code",
   "execution_count": null,
   "metadata": {},
   "outputs": [],
   "source": [
    "data = make_data_array(wga_mu=wga_mu, \n",
    "                       no_wga_mu=no_wga_mu, gc=gc, \n",
    "                       use_ratio=True, use_gc=True)\n",
    "\n",
    "data = np.array(data)\n",
    "\n",
    "assert data.shape == (len(wga_mu), 4)"
   ]
  },
  {
   "cell_type": "markdown",
   "metadata": {},
   "source": [
    "## KMeans"
   ]
  },
  {
   "cell_type": "code",
   "execution_count": null,
   "metadata": {},
   "outputs": [],
   "source": [
    "kmeans_clustering(clusters=N_CLUSTERS, data=data)"
   ]
  },
  {
   "cell_type": "markdown",
   "metadata": {},
   "source": [
    "### GMM"
   ]
  },
  {
   "cell_type": "code",
   "execution_count": null,
   "metadata": {},
   "outputs": [],
   "source": [
    "gmm_clustering(clusters=N_CLUSTERS, data=data)"
   ]
  }
 ],
 "metadata": {
  "kernelspec": {
   "display_name": "Python 3",
   "language": "python",
   "name": "python3"
  },
  "language_info": {
   "codemirror_mode": {
    "name": "ipython",
    "version": 3
   },
   "file_extension": ".py",
   "mimetype": "text/x-python",
   "name": "python",
   "nbconvert_exporter": "python",
   "pygments_lexer": "ipython3",
   "version": "3.7.6"
  }
 },
 "nbformat": 4,
 "nbformat_minor": 4
}
