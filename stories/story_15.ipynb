{
 "cells": [
  {
   "cell_type": "markdown",
   "metadata": {
    "colab_type": "text",
    "id": "view-in-github"
   },
   "source": [
    "<a href=\"https://colab.research.google.com/github/pockerman/hidden_markov_modeling/blob/master/stories/story_15.ipynb\" target=\"_parent\"><img src=\"https://colab.research.google.com/assets/colab-badge.svg\" alt=\"Open In Colab\"/></a>"
   ]
  },
  {
   "cell_type": "markdown",
   "metadata": {
    "colab_type": "text",
    "id": "wP2BJgRnVH2F"
   },
   "source": [
    "# Story 15\n"
   ]
  },
  {
   "cell_type": "code",
   "execution_count": 1,
   "metadata": {
    "colab": {},
    "colab_type": "code",
    "id": "Vwg2ENeQSIMi"
   },
   "outputs": [],
   "source": [
    "from itertools import cycle, islice\n",
    "import numpy as np"
   ]
  },
  {
   "cell_type": "code",
   "execution_count": 2,
   "metadata": {},
   "outputs": [],
   "source": [
    "from sklearn import mixture\n",
    "from sklearn import metrics"
   ]
  },
  {
   "cell_type": "code",
   "execution_count": 7,
   "metadata": {},
   "outputs": [],
   "source": [
    "from scipy.stats import kde\n",
    "from scipy import linalg\n",
    "import matplotlib.pyplot as plt\n",
    "import matplotlib as mpl\n",
    "import seaborn as sns"
   ]
  },
  {
   "cell_type": "code",
   "execution_count": null,
   "metadata": {},
   "outputs": [],
   "source": [
    "from helpers import read_configuration_file\n",
    "from train import main\n",
    "from train import load_regions\n",
    "from hmm_helpers import build_hmm\n",
    "from helpers import WindowType"
   ]
  },
  {
   "cell_type": "code",
   "execution_count": 8,
   "metadata": {},
   "outputs": [],
   "source": [
    "sns.set(color_codes=True)"
   ]
  },
  {
   "cell_type": "code",
   "execution_count": 9,
   "metadata": {},
   "outputs": [],
   "source": [
    "def load_data_file(filename):\n",
    "\n",
    "    with open(filename) as file:\n",
    "        context = file.read()\n",
    "        size = len(context)\n",
    "        arraystr= context[1:size-1]\n",
    "        arraystr = arraystr.split(',')\n",
    "        region_means = [float(item) for item in arraystr]\n",
    "        return region_means"
   ]
  },
  {
   "cell_type": "code",
   "execution_count": 15,
   "metadata": {},
   "outputs": [],
   "source": [
    "def make_data_array(wga_mu, no_wga_mu, gc, use_ratio, use_gc):\n",
    "    data = []\n",
    "    \n",
    "    if use_ratio and use_gc:\n",
    "        for no_wga_val, wga_val,gc_val in zip(no_wga_mu, wga_mu, gc):\n",
    "            data.append([no_wga_val, wga_val, (wga_val + 1)/(no_wga_val + 1), gc_val])\n",
    "    elif use_ratio:\n",
    "        for no_wga, wga  in zip(no_wga_mu, wga_mu):\n",
    "            data.append([no_wga, wga,  (wga + 1)/(no_wga + 1)])\n",
    "    elif use_gc:\n",
    "        \n",
    "        for no_wga_val, wga_val , gc_val in zip(no_wga_mu, wga_mu,  gc):\n",
    "            data.append([no_wga_val, wga_val, gc_val])\n",
    "    else:\n",
    "        \n",
    "        for no_wga, wga  in zip(no_wga_mu, wga_mu):\n",
    "            data.append([no_wga, wga ])\n",
    "        \n",
    "    return data"
   ]
  },
  {
   "cell_type": "code",
   "execution_count": null,
   "metadata": {},
   "outputs": [],
   "source": [
    "def gmm_clustering(clusters, data, cov_type, tol, max_itrs, n_init, no_wga_mu, wga_mu):\n",
    "    \n",
    "    #for nclusters in clusters:\n",
    "    \n",
    "        print(\"Number of clusters \", clusters)\n",
    "        gmm = mixture.GaussianMixture(n_components=clusters,\n",
    "                                      covariance_type=cov_type,\n",
    "                                      tol=tol, max_iter=max_itrs,\n",
    "                                     n_init=n_init)\n",
    "        gmm.fit(data)\n",
    "        print(\"Converged: \", gmm.converged_)\n",
    "        print(\"BIC: \", gmm.bic(data))\n",
    "        labels = gmm.predict(data)\n",
    "\n",
    "        #colors = np.array(list(islice(cycle(['#377eb8', '#ff7f00', '#4daf4a',\n",
    "        #                                     '#f781bf', '#a65628', '#984ea3',\n",
    "        #                                     '#999999', '#e41a1c', '#dede00']),\n",
    "        #                                  int(max(labels) + 1))))\n",
    "        \n",
    "        colors = np.array(['#377eb8', '#ff7f00', '#4daf4a',\n",
    "                            '#f781bf', '#a65628'])\n",
    "\n",
    "        # add black color for outliers (if any)\n",
    "        colors = np.append(colors, [\"#000000\"])\n",
    "\n",
    "        plt.scatter(no_wga_mu, wga_mu,  color=colors[labels])\n",
    "        \n",
    "        kernel= kde.gaussian_kde(np.vstack([no_wga_mu, wga_mu]))\n",
    "        xi, yi = np.mgrid[min(no_wga_mu):max(no_wga_mu):nbins*1j, \n",
    "                          min(wga_mu):max(wga_mu):nbins*1j]\n",
    "        zi = kernel(np.vstack([xi.flatten(), yi.flatten()]))\n",
    "        #plt.pcolormesh(xi, yi, zi.reshape(xi.shape), cmap='Blues')\n",
    "        plt.contour(xi, yi, zi.reshape(xi.shape), 24 )\n",
    "        \n",
    "        plt.xlabel(\"NO-WGA \")\n",
    "        plt.ylabel(\"WGA\")\n",
    "        plt.show()\n",
    "        \n",
    "        return gmm"
   ]
  },
  {
   "cell_type": "code",
   "execution_count": 10,
   "metadata": {},
   "outputs": [],
   "source": [
    "# change here accordingly the paths\n",
    "\n",
    "\n",
    "wga_mean_tuf_I_file = \"/home/a/ag568/wga_windows_mean_0_TUF_DETAIL_I.txt\"\n",
    "no_wga_mean_tuf_I_file = \"/home/a/ag568/no_wga_windows_mean_0_TUF_DETAIL_I.txt\"\n",
    "gc_tuf_I_file = \"/home/a/ag568/windows_gc_0_TUF_DETAIL_I.txt\"\n",
    "\n",
    "#wga_mean_tuf_II_file = \"/home/a/ag568/wga_windows_mean_0_TUF_DETAIL_II.txt\"\n",
    "#no_wga_mean_tuf_II_file = \"/home/a/ag568/no_wga_windows_mean_0_TUF_DETAIL_II.txt\"\n",
    "#gc_tuf_II_file = \"/home/a/ag568/windows_gc_0_TUF_DETAIL_II.txt\"\n",
    "\n",
    "wga_mean_single_copy_deletion_file = \"/home/a/ag568/wga_windows_mean_0_SINGLE_COPY_DELETION.txt\"\n",
    "no_wga_mean_single_copy_deletion_file = \"/home/a/ag568/no_wga_windows_mean_0_SINGLE_COPY_DELETION.txt\"\n",
    "gc_single_copy_deletion_file = \"/home/a/ag568/windows_gc_0_SINGLE_COPY_DELETION.txt\"\n",
    "\n",
    "wga_mean_duplication_file = \"/home/a/ag568/wga_windows_mean_0_DUPLICATION.txt\"\n",
    "no_wga_mean_duplication_file = \"/home/a/ag568/no_wga_windows_mean_0_DUPLICATION.txt\"\n",
    "gc_duplication_file = \"/home/a/ag568/windows_gc_0_DUPLICATION.txt\"\n",
    "\n",
    "wga_mean_delete_file = \"/home/a/ag568/wga_windows_mean_0_DELETE.txt\"\n",
    "no_wga_mean_delete_file = \"/home/a/ag568/no_wga_windows_mean_0_DELETE.txt\"\n",
    "gc_delete_file = \"/home/a/ag568/windows_gc_0_DELETE.txt\""
   ]
  },
  {
   "cell_type": "code",
   "execution_count": 11,
   "metadata": {},
   "outputs": [
    {
     "ename": "FileNotFoundError",
     "evalue": "[Errno 2] No such file or directory: '/home/a/ag568/wga_windows_mean_0_TUF_DETAIL_I.txt'",
     "output_type": "error",
     "traceback": [
      "\u001b[0;31m---------------------------------------------------------------------------\u001b[0m",
      "\u001b[0;31mFileNotFoundError\u001b[0m                         Traceback (most recent call last)",
      "\u001b[0;32m<ipython-input-11-36754795c12f>\u001b[0m in \u001b[0;36m<module>\u001b[0;34m\u001b[0m\n\u001b[0;32m----> 1\u001b[0;31m \u001b[0mwga_mu_tuf_I\u001b[0m \u001b[0;34m=\u001b[0m \u001b[0mload_data_file\u001b[0m\u001b[0;34m(\u001b[0m\u001b[0mfilename\u001b[0m\u001b[0;34m=\u001b[0m\u001b[0mwga_mean_tuf_I_file\u001b[0m\u001b[0;34m)\u001b[0m\u001b[0;34m\u001b[0m\u001b[0;34m\u001b[0m\u001b[0m\n\u001b[0m\u001b[1;32m      2\u001b[0m \u001b[0mno_wga_mu_tuf_I\u001b[0m \u001b[0;34m=\u001b[0m \u001b[0mload_data_file\u001b[0m\u001b[0;34m(\u001b[0m\u001b[0mfilename\u001b[0m\u001b[0;34m=\u001b[0m\u001b[0mno_wga_mean_tuf_I_file\u001b[0m\u001b[0;34m)\u001b[0m\u001b[0;34m\u001b[0m\u001b[0;34m\u001b[0m\u001b[0m\n\u001b[1;32m      3\u001b[0m \u001b[0mgc_tuf_I\u001b[0m \u001b[0;34m=\u001b[0m \u001b[0mload_data_file\u001b[0m\u001b[0;34m(\u001b[0m\u001b[0mfilename\u001b[0m\u001b[0;34m=\u001b[0m\u001b[0mgc_tuf_I_file\u001b[0m\u001b[0;34m)\u001b[0m\u001b[0;34m\u001b[0m\u001b[0;34m\u001b[0m\u001b[0m\n",
      "\u001b[0;32m<ipython-input-9-739419740cd2>\u001b[0m in \u001b[0;36mload_data_file\u001b[0;34m(filename)\u001b[0m\n\u001b[1;32m      1\u001b[0m \u001b[0;32mdef\u001b[0m \u001b[0mload_data_file\u001b[0m\u001b[0;34m(\u001b[0m\u001b[0mfilename\u001b[0m\u001b[0;34m)\u001b[0m\u001b[0;34m:\u001b[0m\u001b[0;34m\u001b[0m\u001b[0;34m\u001b[0m\u001b[0m\n\u001b[1;32m      2\u001b[0m \u001b[0;34m\u001b[0m\u001b[0m\n\u001b[0;32m----> 3\u001b[0;31m     \u001b[0;32mwith\u001b[0m \u001b[0mopen\u001b[0m\u001b[0;34m(\u001b[0m\u001b[0mfilename\u001b[0m\u001b[0;34m)\u001b[0m \u001b[0;32mas\u001b[0m \u001b[0mfile\u001b[0m\u001b[0;34m:\u001b[0m\u001b[0;34m\u001b[0m\u001b[0;34m\u001b[0m\u001b[0m\n\u001b[0m\u001b[1;32m      4\u001b[0m         \u001b[0mcontext\u001b[0m \u001b[0;34m=\u001b[0m \u001b[0mfile\u001b[0m\u001b[0;34m.\u001b[0m\u001b[0mread\u001b[0m\u001b[0;34m(\u001b[0m\u001b[0;34m)\u001b[0m\u001b[0;34m\u001b[0m\u001b[0;34m\u001b[0m\u001b[0m\n\u001b[1;32m      5\u001b[0m         \u001b[0msize\u001b[0m \u001b[0;34m=\u001b[0m \u001b[0mlen\u001b[0m\u001b[0;34m(\u001b[0m\u001b[0mcontext\u001b[0m\u001b[0;34m)\u001b[0m\u001b[0;34m\u001b[0m\u001b[0;34m\u001b[0m\u001b[0m\n",
      "\u001b[0;31mFileNotFoundError\u001b[0m: [Errno 2] No such file or directory: '/home/a/ag568/wga_windows_mean_0_TUF_DETAIL_I.txt'"
     ]
    }
   ],
   "source": [
    "wga_mu_tuf_I = load_data_file(filename=wga_mean_tuf_I_file)\n",
    "no_wga_mu_tuf_I = load_data_file(filename=no_wga_mean_tuf_I_file)\n",
    "gc_tuf_I = load_data_file(filename=gc_tuf_I_file)"
   ]
  },
  {
   "cell_type": "code",
   "execution_count": 12,
   "metadata": {},
   "outputs": [
    {
     "ename": "FileNotFoundError",
     "evalue": "[Errno 2] No such file or directory: '/home/a/ag568/wga_windows_mean_0_SINGLE_COPY_DELETION.txt'",
     "output_type": "error",
     "traceback": [
      "\u001b[0;31m---------------------------------------------------------------------------\u001b[0m",
      "\u001b[0;31mFileNotFoundError\u001b[0m                         Traceback (most recent call last)",
      "\u001b[0;32m<ipython-input-12-aeecdd310ab8>\u001b[0m in \u001b[0;36m<module>\u001b[0;34m\u001b[0m\n\u001b[0;32m----> 1\u001b[0;31m \u001b[0mwga_mu_single_copy_deletion\u001b[0m \u001b[0;34m=\u001b[0m \u001b[0mload_data_file\u001b[0m\u001b[0;34m(\u001b[0m\u001b[0mfilename\u001b[0m\u001b[0;34m=\u001b[0m\u001b[0mwga_mean_single_copy_deletion_file\u001b[0m\u001b[0;34m)\u001b[0m\u001b[0;34m\u001b[0m\u001b[0;34m\u001b[0m\u001b[0m\n\u001b[0m\u001b[1;32m      2\u001b[0m \u001b[0mno_wga_mu_single_copy_deletion\u001b[0m \u001b[0;34m=\u001b[0m \u001b[0mload_data_file\u001b[0m\u001b[0;34m(\u001b[0m\u001b[0mfilename\u001b[0m\u001b[0;34m=\u001b[0m\u001b[0mno_wga_mean_single_copy_deletion_file\u001b[0m\u001b[0;34m)\u001b[0m\u001b[0;34m\u001b[0m\u001b[0;34m\u001b[0m\u001b[0m\n\u001b[1;32m      3\u001b[0m \u001b[0mgc_single_copy_deletion\u001b[0m \u001b[0;34m=\u001b[0m \u001b[0mload_data_file\u001b[0m\u001b[0;34m(\u001b[0m\u001b[0mfilename\u001b[0m\u001b[0;34m=\u001b[0m\u001b[0mgc_single_copy_deletion_file\u001b[0m\u001b[0;34m)\u001b[0m\u001b[0;34m\u001b[0m\u001b[0;34m\u001b[0m\u001b[0m\n",
      "\u001b[0;32m<ipython-input-9-739419740cd2>\u001b[0m in \u001b[0;36mload_data_file\u001b[0;34m(filename)\u001b[0m\n\u001b[1;32m      1\u001b[0m \u001b[0;32mdef\u001b[0m \u001b[0mload_data_file\u001b[0m\u001b[0;34m(\u001b[0m\u001b[0mfilename\u001b[0m\u001b[0;34m)\u001b[0m\u001b[0;34m:\u001b[0m\u001b[0;34m\u001b[0m\u001b[0;34m\u001b[0m\u001b[0m\n\u001b[1;32m      2\u001b[0m \u001b[0;34m\u001b[0m\u001b[0m\n\u001b[0;32m----> 3\u001b[0;31m     \u001b[0;32mwith\u001b[0m \u001b[0mopen\u001b[0m\u001b[0;34m(\u001b[0m\u001b[0mfilename\u001b[0m\u001b[0;34m)\u001b[0m \u001b[0;32mas\u001b[0m \u001b[0mfile\u001b[0m\u001b[0;34m:\u001b[0m\u001b[0;34m\u001b[0m\u001b[0;34m\u001b[0m\u001b[0m\n\u001b[0m\u001b[1;32m      4\u001b[0m         \u001b[0mcontext\u001b[0m \u001b[0;34m=\u001b[0m \u001b[0mfile\u001b[0m\u001b[0;34m.\u001b[0m\u001b[0mread\u001b[0m\u001b[0;34m(\u001b[0m\u001b[0;34m)\u001b[0m\u001b[0;34m\u001b[0m\u001b[0;34m\u001b[0m\u001b[0m\n\u001b[1;32m      5\u001b[0m         \u001b[0msize\u001b[0m \u001b[0;34m=\u001b[0m \u001b[0mlen\u001b[0m\u001b[0;34m(\u001b[0m\u001b[0mcontext\u001b[0m\u001b[0;34m)\u001b[0m\u001b[0;34m\u001b[0m\u001b[0;34m\u001b[0m\u001b[0m\n",
      "\u001b[0;31mFileNotFoundError\u001b[0m: [Errno 2] No such file or directory: '/home/a/ag568/wga_windows_mean_0_SINGLE_COPY_DELETION.txt'"
     ]
    }
   ],
   "source": [
    "wga_mu_single_copy_deletion = load_data_file(filename=wga_mean_single_copy_deletion_file)\n",
    "no_wga_mu_single_copy_deletion = load_data_file(filename=no_wga_mean_single_copy_deletion_file)\n",
    "gc_single_copy_deletion = load_data_file(filename=gc_single_copy_deletion_file)"
   ]
  },
  {
   "cell_type": "code",
   "execution_count": 13,
   "metadata": {},
   "outputs": [
    {
     "ename": "FileNotFoundError",
     "evalue": "[Errno 2] No such file or directory: '/home/a/ag568/wga_windows_mean_0_DUPLICATION.txt'",
     "output_type": "error",
     "traceback": [
      "\u001b[0;31m---------------------------------------------------------------------------\u001b[0m",
      "\u001b[0;31mFileNotFoundError\u001b[0m                         Traceback (most recent call last)",
      "\u001b[0;32m<ipython-input-13-116b8603e019>\u001b[0m in \u001b[0;36m<module>\u001b[0;34m\u001b[0m\n\u001b[0;32m----> 1\u001b[0;31m \u001b[0mwga_mu_duplication\u001b[0m \u001b[0;34m=\u001b[0m \u001b[0mload_data_file\u001b[0m\u001b[0;34m(\u001b[0m\u001b[0mfilename\u001b[0m\u001b[0;34m=\u001b[0m\u001b[0mwga_mean_duplication_file\u001b[0m\u001b[0;34m)\u001b[0m\u001b[0;34m\u001b[0m\u001b[0;34m\u001b[0m\u001b[0m\n\u001b[0m\u001b[1;32m      2\u001b[0m \u001b[0mno_wga_mu_duplication\u001b[0m \u001b[0;34m=\u001b[0m \u001b[0mload_data_file\u001b[0m\u001b[0;34m(\u001b[0m\u001b[0mfilename\u001b[0m\u001b[0;34m=\u001b[0m\u001b[0mno_wga_mean_duplication_file\u001b[0m\u001b[0;34m)\u001b[0m\u001b[0;34m\u001b[0m\u001b[0;34m\u001b[0m\u001b[0m\n\u001b[1;32m      3\u001b[0m \u001b[0mgc_duplication\u001b[0m \u001b[0;34m=\u001b[0m \u001b[0mload_data_file\u001b[0m\u001b[0;34m(\u001b[0m\u001b[0mfilename\u001b[0m\u001b[0;34m=\u001b[0m\u001b[0mgc_duplication_file\u001b[0m\u001b[0;34m)\u001b[0m\u001b[0;34m\u001b[0m\u001b[0;34m\u001b[0m\u001b[0m\n",
      "\u001b[0;32m<ipython-input-9-739419740cd2>\u001b[0m in \u001b[0;36mload_data_file\u001b[0;34m(filename)\u001b[0m\n\u001b[1;32m      1\u001b[0m \u001b[0;32mdef\u001b[0m \u001b[0mload_data_file\u001b[0m\u001b[0;34m(\u001b[0m\u001b[0mfilename\u001b[0m\u001b[0;34m)\u001b[0m\u001b[0;34m:\u001b[0m\u001b[0;34m\u001b[0m\u001b[0;34m\u001b[0m\u001b[0m\n\u001b[1;32m      2\u001b[0m \u001b[0;34m\u001b[0m\u001b[0m\n\u001b[0;32m----> 3\u001b[0;31m     \u001b[0;32mwith\u001b[0m \u001b[0mopen\u001b[0m\u001b[0;34m(\u001b[0m\u001b[0mfilename\u001b[0m\u001b[0;34m)\u001b[0m \u001b[0;32mas\u001b[0m \u001b[0mfile\u001b[0m\u001b[0;34m:\u001b[0m\u001b[0;34m\u001b[0m\u001b[0;34m\u001b[0m\u001b[0m\n\u001b[0m\u001b[1;32m      4\u001b[0m         \u001b[0mcontext\u001b[0m \u001b[0;34m=\u001b[0m \u001b[0mfile\u001b[0m\u001b[0;34m.\u001b[0m\u001b[0mread\u001b[0m\u001b[0;34m(\u001b[0m\u001b[0;34m)\u001b[0m\u001b[0;34m\u001b[0m\u001b[0;34m\u001b[0m\u001b[0m\n\u001b[1;32m      5\u001b[0m         \u001b[0msize\u001b[0m \u001b[0;34m=\u001b[0m \u001b[0mlen\u001b[0m\u001b[0;34m(\u001b[0m\u001b[0mcontext\u001b[0m\u001b[0;34m)\u001b[0m\u001b[0;34m\u001b[0m\u001b[0;34m\u001b[0m\u001b[0m\n",
      "\u001b[0;31mFileNotFoundError\u001b[0m: [Errno 2] No such file or directory: '/home/a/ag568/wga_windows_mean_0_DUPLICATION.txt'"
     ]
    }
   ],
   "source": [
    "wga_mu_duplication = load_data_file(filename=wga_mean_duplication_file)\n",
    "no_wga_mu_duplication = load_data_file(filename=no_wga_mean_duplication_file)\n",
    "gc_duplication = load_data_file(filename=gc_duplication_file)"
   ]
  },
  {
   "cell_type": "code",
   "execution_count": 14,
   "metadata": {},
   "outputs": [
    {
     "ename": "FileNotFoundError",
     "evalue": "[Errno 2] No such file or directory: '/home/a/ag568/wga_windows_mean_0_DELETE.txt'",
     "output_type": "error",
     "traceback": [
      "\u001b[0;31m---------------------------------------------------------------------------\u001b[0m",
      "\u001b[0;31mFileNotFoundError\u001b[0m                         Traceback (most recent call last)",
      "\u001b[0;32m<ipython-input-14-328ef6b22192>\u001b[0m in \u001b[0;36m<module>\u001b[0;34m\u001b[0m\n\u001b[0;32m----> 1\u001b[0;31m \u001b[0mwga_mu_delete\u001b[0m \u001b[0;34m=\u001b[0m \u001b[0mload_data_file\u001b[0m\u001b[0;34m(\u001b[0m\u001b[0mfilename\u001b[0m\u001b[0;34m=\u001b[0m\u001b[0mwga_mean_delete_file\u001b[0m\u001b[0;34m)\u001b[0m\u001b[0;34m\u001b[0m\u001b[0;34m\u001b[0m\u001b[0m\n\u001b[0m\u001b[1;32m      2\u001b[0m \u001b[0mno_wga_mu_delete\u001b[0m \u001b[0;34m=\u001b[0m \u001b[0mload_data_file\u001b[0m\u001b[0;34m(\u001b[0m\u001b[0mfilename\u001b[0m\u001b[0;34m=\u001b[0m\u001b[0mno_wga_mean_delete_file\u001b[0m\u001b[0;34m)\u001b[0m\u001b[0;34m\u001b[0m\u001b[0;34m\u001b[0m\u001b[0m\n\u001b[1;32m      3\u001b[0m \u001b[0mgc_delete\u001b[0m \u001b[0;34m=\u001b[0m \u001b[0mload_data_file\u001b[0m\u001b[0;34m(\u001b[0m\u001b[0mfilename\u001b[0m\u001b[0;34m=\u001b[0m\u001b[0mgc_delete_file\u001b[0m\u001b[0;34m)\u001b[0m\u001b[0;34m\u001b[0m\u001b[0;34m\u001b[0m\u001b[0m\n",
      "\u001b[0;32m<ipython-input-9-739419740cd2>\u001b[0m in \u001b[0;36mload_data_file\u001b[0;34m(filename)\u001b[0m\n\u001b[1;32m      1\u001b[0m \u001b[0;32mdef\u001b[0m \u001b[0mload_data_file\u001b[0m\u001b[0;34m(\u001b[0m\u001b[0mfilename\u001b[0m\u001b[0;34m)\u001b[0m\u001b[0;34m:\u001b[0m\u001b[0;34m\u001b[0m\u001b[0;34m\u001b[0m\u001b[0m\n\u001b[1;32m      2\u001b[0m \u001b[0;34m\u001b[0m\u001b[0m\n\u001b[0;32m----> 3\u001b[0;31m     \u001b[0;32mwith\u001b[0m \u001b[0mopen\u001b[0m\u001b[0;34m(\u001b[0m\u001b[0mfilename\u001b[0m\u001b[0;34m)\u001b[0m \u001b[0;32mas\u001b[0m \u001b[0mfile\u001b[0m\u001b[0;34m:\u001b[0m\u001b[0;34m\u001b[0m\u001b[0;34m\u001b[0m\u001b[0m\n\u001b[0m\u001b[1;32m      4\u001b[0m         \u001b[0mcontext\u001b[0m \u001b[0;34m=\u001b[0m \u001b[0mfile\u001b[0m\u001b[0;34m.\u001b[0m\u001b[0mread\u001b[0m\u001b[0;34m(\u001b[0m\u001b[0;34m)\u001b[0m\u001b[0;34m\u001b[0m\u001b[0;34m\u001b[0m\u001b[0m\n\u001b[1;32m      5\u001b[0m         \u001b[0msize\u001b[0m \u001b[0;34m=\u001b[0m \u001b[0mlen\u001b[0m\u001b[0;34m(\u001b[0m\u001b[0mcontext\u001b[0m\u001b[0;34m)\u001b[0m\u001b[0;34m\u001b[0m\u001b[0;34m\u001b[0m\u001b[0m\n",
      "\u001b[0;31mFileNotFoundError\u001b[0m: [Errno 2] No such file or directory: '/home/a/ag568/wga_windows_mean_0_DELETE.txt'"
     ]
    }
   ],
   "source": [
    "wga_mu_delete = load_data_file(filename=wga_mean_delete_file)\n",
    "no_wga_mu_delete = load_data_file(filename=no_wga_mean_delete_file)\n",
    "gc_delete = load_data_file(filename=gc_delete_file)"
   ]
  },
  {
   "cell_type": "code",
   "execution_count": 16,
   "metadata": {},
   "outputs": [
    {
     "ename": "NameError",
     "evalue": "name 'wga_mu_tuf_I' is not defined",
     "output_type": "error",
     "traceback": [
      "\u001b[0;31m---------------------------------------------------------------------------\u001b[0m",
      "\u001b[0;31mNameError\u001b[0m                                 Traceback (most recent call last)",
      "\u001b[0;32m<ipython-input-16-92a51203d015>\u001b[0m in \u001b[0;36m<module>\u001b[0;34m\u001b[0m\n\u001b[1;32m      3\u001b[0m \u001b[0;31m# WGA sample\u001b[0m\u001b[0;34m\u001b[0m\u001b[0;34m\u001b[0m\u001b[0;34m\u001b[0m\u001b[0m\n\u001b[1;32m      4\u001b[0m \u001b[0mwga_mu\u001b[0m \u001b[0;34m=\u001b[0m \u001b[0;34m[\u001b[0m\u001b[0;34m]\u001b[0m\u001b[0;34m\u001b[0m\u001b[0;34m\u001b[0m\u001b[0m\n\u001b[0;32m----> 5\u001b[0;31m \u001b[0mwga_mu\u001b[0m\u001b[0;34m.\u001b[0m\u001b[0mextend\u001b[0m\u001b[0;34m(\u001b[0m\u001b[0mwga_mu_tuf_I\u001b[0m\u001b[0;34m)\u001b[0m\u001b[0;34m\u001b[0m\u001b[0;34m\u001b[0m\u001b[0m\n\u001b[0m\u001b[1;32m      6\u001b[0m \u001b[0;31m#wga_mu.extend(wga_mu_tuf_II)\u001b[0m\u001b[0;34m\u001b[0m\u001b[0;34m\u001b[0m\u001b[0;34m\u001b[0m\u001b[0m\n\u001b[1;32m      7\u001b[0m \u001b[0mwga_mu\u001b[0m\u001b[0;34m.\u001b[0m\u001b[0mextend\u001b[0m\u001b[0;34m(\u001b[0m\u001b[0mwga_mu_single_copy_deletion\u001b[0m\u001b[0;34m)\u001b[0m\u001b[0;34m\u001b[0m\u001b[0;34m\u001b[0m\u001b[0m\n",
      "\u001b[0;31mNameError\u001b[0m: name 'wga_mu_tuf_I' is not defined"
     ]
    }
   ],
   "source": [
    "# mix the data\n",
    "\n",
    "# WGA sample\n",
    "wga_mu = []\n",
    "wga_mu.extend(wga_mu_tuf_I)\n",
    "#wga_mu.extend(wga_mu_tuf_II)\n",
    "wga_mu.extend(wga_mu_single_copy_deletion)\n",
    "wga_mu.extend(wga_mu_duplication)\n",
    "wga_mu.extend(wga_mu_delete)\n",
    "\n",
    "\n",
    "# NO-WGA sample\n",
    "no_wga_mu = []\n",
    "no_wga_mu.extend(no_wga_mu_tuf_I)\n",
    "#no_wga_mu.extend(no_wga_mu_tuf_II)\n",
    "no_wga_mu.extend(no_wga_mu_single_copy_deletion)\n",
    "no_wga_mu.extend(no_wga_mu_duplication)\n",
    "no_wga_mu.extend(no_wga_mu_delete)\n",
    "\n",
    "\n",
    "# GC\n",
    "gc = []\n",
    "gc.extend(gc_tuf_I)\n",
    "#gc.extend(gc_tuf_II)\n",
    "gc.extend(gc_single_copy_deletion)\n",
    "gc.extend(gc_duplication)\n",
    "gc.extend(gc_delete)\n"
   ]
  },
  {
   "cell_type": "markdown",
   "metadata": {},
   "source": [
    "## Cluster the reference data"
   ]
  },
  {
   "cell_type": "code",
   "execution_count": null,
   "metadata": {},
   "outputs": [],
   "source": [
    "data = make_data_array(wga_mu=wga_mu, \n",
    "                       no_wga_mu=no_wga_mu, gc=None, \n",
    "                       use_ratio=False, use_gc=False)\n",
    "\n",
    "data = np.array(data)\n",
    "\n",
    "assert data.shape == (len(wga_mu), 2)"
   ]
  },
  {
   "cell_type": "code",
   "execution_count": 17,
   "metadata": {},
   "outputs": [
    {
     "ename": "NameError",
     "evalue": "name 'gmm_clustering' is not defined",
     "output_type": "error",
     "traceback": [
      "\u001b[0;31m---------------------------------------------------------------------------\u001b[0m",
      "\u001b[0;31mNameError\u001b[0m                                 Traceback (most recent call last)",
      "\u001b[0;32m<ipython-input-17-22ba123e4f69>\u001b[0m in \u001b[0;36m<module>\u001b[0;34m\u001b[0m\n\u001b[0;32m----> 1\u001b[0;31m gmm = gmm_clustering(clusters=[5], data=data, tol=1.0e-5, \n\u001b[0m\u001b[1;32m      2\u001b[0m                      \u001b[0mcov_type\u001b[0m\u001b[0;34m=\u001b[0m\u001b[0;34m'diag'\u001b[0m\u001b[0;34m,\u001b[0m\u001b[0;34m\u001b[0m\u001b[0;34m\u001b[0m\u001b[0m\n\u001b[1;32m      3\u001b[0m                      \u001b[0mmax_itrs\u001b[0m\u001b[0;34m=\u001b[0m\u001b[0;36m300\u001b[0m\u001b[0;34m,\u001b[0m \u001b[0mn_init\u001b[0m\u001b[0;34m=\u001b[0m\u001b[0;36m1\u001b[0m\u001b[0;34m,\u001b[0m\u001b[0;34m\u001b[0m\u001b[0;34m\u001b[0m\u001b[0m\n\u001b[1;32m      4\u001b[0m                      no_wga_mu=no_wga_mu, wga_mu=wga_mu)\n",
      "\u001b[0;31mNameError\u001b[0m: name 'gmm_clustering' is not defined"
     ]
    }
   ],
   "source": [
    "gmm = gmm_clustering(clusters=5, data=data, tol=1.0e-5, \n",
    "                     cov_type='diag',\n",
    "                     max_itrs=300, n_init=1,\n",
    "                     no_wga_mu=no_wga_mu, wga_mu=wga_mu)"
   ]
  },
  {
   "cell_type": "markdown",
   "metadata": {},
   "source": [
    "### Cluster for TUF"
   ]
  },
  {
   "cell_type": "markdown",
   "metadata": {},
   "source": [
    "Simply use the ref TUF I region to extract the distribution."
   ]
  },
  {
   "cell_type": "code",
   "execution_count": null,
   "metadata": {},
   "outputs": [],
   "source": [
    "tuf_wga_mu = []\n",
    "tuf_wga_mu.extend(wga_mu_tuf_I)\n",
    "\n",
    "tuf_no_wga_mu = []\n",
    "tuf_no_wga_mu.extend(no_wga_mu_tuf_I)"
   ]
  },
  {
   "cell_type": "code",
   "execution_count": 18,
   "metadata": {},
   "outputs": [
    {
     "ename": "NameError",
     "evalue": "name 'no_wga_mu' is not defined",
     "output_type": "error",
     "traceback": [
      "\u001b[0;31m---------------------------------------------------------------------------\u001b[0m",
      "\u001b[0;31mNameError\u001b[0m                                 Traceback (most recent call last)",
      "\u001b[0;32m<ipython-input-18-5874c6d62825>\u001b[0m in \u001b[0;36m<module>\u001b[0;34m\u001b[0m\n\u001b[1;32m      1\u001b[0m data = make_data_array(wga_mu=wga_mu, \n\u001b[0;32m----> 2\u001b[0;31m                        \u001b[0mno_wga_mu\u001b[0m\u001b[0;34m=\u001b[0m\u001b[0mno_wga_mu\u001b[0m\u001b[0;34m,\u001b[0m \u001b[0mgc\u001b[0m\u001b[0;34m=\u001b[0m\u001b[0;32mNone\u001b[0m\u001b[0;34m,\u001b[0m\u001b[0;34m\u001b[0m\u001b[0;34m\u001b[0m\u001b[0m\n\u001b[0m\u001b[1;32m      3\u001b[0m                        use_ratio=True, use_gc=False)\n\u001b[1;32m      4\u001b[0m \u001b[0;34m\u001b[0m\u001b[0m\n\u001b[1;32m      5\u001b[0m \u001b[0mdata\u001b[0m \u001b[0;34m=\u001b[0m \u001b[0mnp\u001b[0m\u001b[0;34m.\u001b[0m\u001b[0marray\u001b[0m\u001b[0;34m(\u001b[0m\u001b[0mdata\u001b[0m\u001b[0;34m)\u001b[0m\u001b[0;34m\u001b[0m\u001b[0;34m\u001b[0m\u001b[0m\n",
      "\u001b[0;31mNameError\u001b[0m: name 'no_wga_mu' is not defined"
     ]
    }
   ],
   "source": [
    "data = make_data_array(wga_mu=tuf_wga_mu, \n",
    "                       no_wga_mu=tuf_no_wga_mu, gc=None, \n",
    "                       use_ratio=True, use_gc=False)\n",
    "\n",
    "data = np.array(data)\n",
    "\n",
    "assert data.shape == (len(wga_mu), 3)"
   ]
  },
  {
   "cell_type": "code",
   "execution_count": null,
   "metadata": {},
   "outputs": [],
   "source": [
    "gmm_tuf = gmm_clustering(clusters=3, data=data, tol=1.0e-5, cov_type='diag',\n",
    "                         max_itrs=300, n_init=1,\n",
    "                         no_wga_mu=no_wga_mu, wga_mu=wga_mu)"
   ]
  },
  {
   "cell_type": "markdown",
   "metadata": {},
   "source": [
    "## Form the distributions"
   ]
  },
  {
   "cell_type": "markdown",
   "metadata": {},
   "source": [
    "## Apply HMM"
   ]
  },
  {
   "cell_type": "code",
   "execution_count": 21,
   "metadata": {},
   "outputs": [],
   "source": [
    "# load the configuration\n",
    "configuration = read_configuration_file(\"../config.json\")\n",
    "\n",
    "#configuration[\"clusters\"] = {}\n",
    "#configuration[\"HMM\"] = {\"states\":{}, \"transitions\" }"
   ]
  },
  {
   "cell_type": "code",
   "execution_count": 20,
   "metadata": {},
   "outputs": [
    {
     "ename": "NameError",
     "evalue": "name 'configuration' is not defined",
     "output_type": "error",
     "traceback": [
      "\u001b[0;31m---------------------------------------------------------------------------\u001b[0m",
      "\u001b[0;31mNameError\u001b[0m                                 Traceback (most recent call last)",
      "\u001b[0;32m<ipython-input-20-6b83b48f5238>\u001b[0m in \u001b[0;36m<module>\u001b[0;34m\u001b[0m\n\u001b[0;32m----> 1\u001b[0;31m \u001b[0mconfiguration\u001b[0m\u001b[0;34m[\u001b[0m\u001b[0;34m\"clusters\"\u001b[0m\u001b[0;34m]\u001b[0m \u001b[0;34m=\u001b[0m \u001b[0;34m{\u001b[0m\u001b[0;34m}\u001b[0m\u001b[0;34m\u001b[0m\u001b[0;34m\u001b[0m\u001b[0m\n\u001b[0m\u001b[1;32m      2\u001b[0m \u001b[0mclusters_config\u001b[0m \u001b[0;34m=\u001b[0m \u001b[0mconfiguration\u001b[0m\u001b[0;34m[\u001b[0m\u001b[0;34m\"clusters\"\u001b[0m\u001b[0;34m]\u001b[0m\u001b[0;34m\u001b[0m\u001b[0;34m\u001b[0m\u001b[0m\n",
      "\u001b[0;31mNameError\u001b[0m: name 'configuration' is not defined"
     ]
    }
   ],
   "source": [
    "\n",
    "clusters_config = configuration[\"clusters\"]"
   ]
  },
  {
   "cell_type": "code",
   "execution_count": 22,
   "metadata": {},
   "outputs": [
    {
     "ename": "KeyError",
     "evalue": "'HMM'",
     "output_type": "error",
     "traceback": [
      "\u001b[0;31m---------------------------------------------------------------------------\u001b[0m",
      "\u001b[0;31mKeyError\u001b[0m                                  Traceback (most recent call last)",
      "\u001b[0;32m<ipython-input-22-1780d20e0d21>\u001b[0m in \u001b[0;36m<module>\u001b[0;34m\u001b[0m\n\u001b[0;32m----> 1\u001b[0;31m \u001b[0mhmm_states\u001b[0m \u001b[0;34m=\u001b[0m \u001b[0mconfiguration\u001b[0m\u001b[0;34m[\u001b[0m\u001b[0;34m\"HMM\"\u001b[0m\u001b[0;34m]\u001b[0m\u001b[0;34m[\u001b[0m\u001b[0;34m\"states\"\u001b[0m\u001b[0;34m]\u001b[0m\u001b[0;34m\u001b[0m\u001b[0;34m\u001b[0m\u001b[0m\n\u001b[0m",
      "\u001b[0;31mKeyError\u001b[0m: 'HMM'"
     ]
    }
   ],
   "source": [
    "hmm_states = configuration[\"HMM\"][\"states\"]"
   ]
  },
  {
   "cell_type": "code",
   "execution_count": 23,
   "metadata": {},
   "outputs": [
    {
     "ename": "KeyError",
     "evalue": "'HMM'",
     "output_type": "error",
     "traceback": [
      "\u001b[0;31m---------------------------------------------------------------------------\u001b[0m",
      "\u001b[0;31mKeyError\u001b[0m                                  Traceback (most recent call last)",
      "\u001b[0;32m<ipython-input-23-94f32c2db02a>\u001b[0m in \u001b[0;36m<module>\u001b[0;34m\u001b[0m\n\u001b[0;32m----> 1\u001b[0;31m \u001b[0mhmm_transitions\u001b[0m \u001b[0;34m=\u001b[0m  \u001b[0mconfiguration\u001b[0m\u001b[0;34m[\u001b[0m\u001b[0;34m\"HMM\"\u001b[0m\u001b[0;34m]\u001b[0m\u001b[0;34m[\u001b[0m\u001b[0;34m\"transitions\"\u001b[0m\u001b[0;34m]\u001b[0m\u001b[0;34m\u001b[0m\u001b[0;34m\u001b[0m\u001b[0m\n\u001b[0m",
      "\u001b[0;31mKeyError\u001b[0m: 'HMM'"
     ]
    }
   ],
   "source": [
    "hmm_transitions =  configuration[\"HMM\"][\"transitions\"]"
   ]
  },
  {
   "cell_type": "markdown",
   "metadata": {},
   "source": [
    "### Train HMM"
   ]
  },
  {
   "cell_type": "code",
   "execution_count": 24,
   "metadata": {},
   "outputs": [
    {
     "ename": "NameError",
     "evalue": "name 'main' is not defined",
     "output_type": "error",
     "traceback": [
      "\u001b[0;31m---------------------------------------------------------------------------\u001b[0m",
      "\u001b[0;31mNameError\u001b[0m                                 Traceback (most recent call last)",
      "\u001b[0;32m<ipython-input-24-5480b7756cca>\u001b[0m in \u001b[0;36m<module>\u001b[0;34m\u001b[0m\n\u001b[1;32m      1\u001b[0m \u001b[0;31m# now we can train\u001b[0m\u001b[0;34m\u001b[0m\u001b[0;34m\u001b[0m\u001b[0;34m\u001b[0m\u001b[0m\n\u001b[0;32m----> 2\u001b[0;31m \u001b[0mhmm\u001b[0m\u001b[0;34m,\u001b[0m \u001b[0mregions_list\u001b[0m \u001b[0;34m=\u001b[0m \u001b[0mmain\u001b[0m\u001b[0;34m(\u001b[0m\u001b[0mconfiguration\u001b[0m\u001b[0;34m=\u001b[0m\u001b[0mconfiguration\u001b[0m\u001b[0;34m)\u001b[0m\u001b[0;34m\u001b[0m\u001b[0;34m\u001b[0m\u001b[0m\n\u001b[0m",
      "\u001b[0;31mNameError\u001b[0m: name 'main' is not defined"
     ]
    }
   ],
   "source": [
    "# now we can train\n",
    "hmm, regions_list = main(configuration=configuration)"
   ]
  },
  {
   "cell_type": "code",
   "execution_count": 25,
   "metadata": {},
   "outputs": [
    {
     "ename": "NameError",
     "evalue": "name 'hmm' is not defined",
     "output_type": "error",
     "traceback": [
      "\u001b[0;31m---------------------------------------------------------------------------\u001b[0m",
      "\u001b[0;31mNameError\u001b[0m                                 Traceback (most recent call last)",
      "\u001b[0;32m<ipython-input-25-7ed6d997b823>\u001b[0m in \u001b[0;36m<module>\u001b[0;34m\u001b[0m\n\u001b[1;32m      1\u001b[0m \u001b[0;31m# visualize the model we just trained\u001b[0m\u001b[0;34m\u001b[0m\u001b[0;34m\u001b[0m\u001b[0;34m\u001b[0m\u001b[0m\n\u001b[1;32m      2\u001b[0m \u001b[0mplt\u001b[0m\u001b[0;34m.\u001b[0m\u001b[0mfigure\u001b[0m\u001b[0;34m(\u001b[0m \u001b[0mfigsize\u001b[0m\u001b[0;34m=\u001b[0m\u001b[0;34m(\u001b[0m\u001b[0;36m20\u001b[0m\u001b[0;34m,\u001b[0m\u001b[0;36m18\u001b[0m\u001b[0;34m)\u001b[0m \u001b[0;34m)\u001b[0m\u001b[0;34m\u001b[0m\u001b[0;34m\u001b[0m\u001b[0m\n\u001b[0;32m----> 3\u001b[0;31m \u001b[0mhmm\u001b[0m\u001b[0;34m.\u001b[0m\u001b[0mplot\u001b[0m\u001b[0;34m(\u001b[0m\u001b[0;34m)\u001b[0m\u001b[0;34m\u001b[0m\u001b[0;34m\u001b[0m\u001b[0m\n\u001b[0m\u001b[1;32m      4\u001b[0m \u001b[0mplt\u001b[0m\u001b[0;34m.\u001b[0m\u001b[0mshow\u001b[0m\u001b[0;34m(\u001b[0m\u001b[0;34m)\u001b[0m\u001b[0;34m\u001b[0m\u001b[0;34m\u001b[0m\u001b[0m\n",
      "\u001b[0;31mNameError\u001b[0m: name 'hmm' is not defined"
     ]
    },
    {
     "data": {
      "text/plain": [
       "<Figure size 1440x1296 with 0 Axes>"
      ]
     },
     "metadata": {},
     "output_type": "display_data"
    }
   ],
   "source": [
    "# visualize the model we just trained\n",
    "plt.figure( figsize=(20,18) )\n",
    "hmm.plot()\n",
    "plt.show()"
   ]
  },
  {
   "cell_type": "code",
   "execution_count": 26,
   "metadata": {},
   "outputs": [
    {
     "ename": "NameError",
     "evalue": "name 'regions' is not defined",
     "output_type": "error",
     "traceback": [
      "\u001b[0;31m---------------------------------------------------------------------------\u001b[0m",
      "\u001b[0;31mNameError\u001b[0m                                 Traceback (most recent call last)",
      "\u001b[0;32m<ipython-input-26-48d561383a3c>\u001b[0m in \u001b[0;36m<module>\u001b[0;34m\u001b[0m\n\u001b[1;32m      1\u001b[0m \u001b[0;31m# load a sequence including the gaps\u001b[0m\u001b[0;34m\u001b[0m\u001b[0;34m\u001b[0m\u001b[0;34m\u001b[0m\u001b[0m\n\u001b[0;32m----> 2\u001b[0;31m sequence = regions[0].get_region_as_rd_mean_sequences_with_windows(size=None,\n\u001b[0m\u001b[1;32m      3\u001b[0m                                                                    \u001b[0mwindow_type\u001b[0m\u001b[0;34m=\u001b[0m\u001b[0mWindowType\u001b[0m\u001b[0;34m.\u001b[0m\u001b[0mfrom_string\u001b[0m\u001b[0;34m(\u001b[0m\u001b[0mhmm_config\u001b[0m\u001b[0;34m[\u001b[0m\u001b[0;34m\"train_windowtype\"\u001b[0m\u001b[0;34m]\u001b[0m\u001b[0;34m)\u001b[0m\u001b[0;34m,\u001b[0m\u001b[0;34m\u001b[0m\u001b[0;34m\u001b[0m\u001b[0m\n\u001b[1;32m      4\u001b[0m                                                                    \u001b[0mn_seqs\u001b[0m\u001b[0;34m=\u001b[0m\u001b[0mhmm_config\u001b[0m\u001b[0;34m[\u001b[0m\u001b[0;34m\"train_n_sequences_per_source\"\u001b[0m\u001b[0;34m]\u001b[0m\u001b[0;34m,\u001b[0m\u001b[0;34m\u001b[0m\u001b[0;34m\u001b[0m\u001b[0m\n\u001b[1;32m      5\u001b[0m                                                                    exclude_gaps=False)\n",
      "\u001b[0;31mNameError\u001b[0m: name 'regions' is not defined"
     ]
    }
   ],
   "source": [
    "# load a sequence including the gaps\n",
    "sequence = regions[0].get_region_as_rd_mean_sequences_with_windows(size=None,\n",
    "                                                                   window_type=WindowType.from_string(hmm_config[\"train_windowtype\"]),\n",
    "                                                                   n_seqs=hmm_config[\"train_n_sequences_per_source\"],\n",
    "                                                                   exclude_gaps=False)"
   ]
  },
  {
   "cell_type": "code",
   "execution_count": null,
   "metadata": {},
   "outputs": [],
   "source": [
    "observations = []\n",
    "for i in range(len(sequence)):\n",
    "    observations.append(sequence[i][0])\n",
    "\n",
    "    print(\"Sequence length: \",len(sequence))\n",
    "\n",
    "    time_start = time.perf_counter()\n",
    "    viterbi_path = hmm.viterbi(observations)\n",
    "    time_end = time.perf_counter()\n",
    "    print(\"Done. Execution time\"\n",
    "          \" {0} secs\".format(time_end - time_start))\n",
    "    print(\"Log-probability of ML Viterbi path: \", viterbi_path[0])\n",
    "\n",
    "\n",
    "    if viterbi_path[1] is not None:\n",
    "        print(\"Viterbi path length: \", len(viterbi_path[1]))\n",
    "\n",
    "        filename=\"viterbi_path.txt\"\n",
    "        counter = 0\n",
    "        with open(filename, 'w') as f:\n",
    "            f.write(str(len(viterbi_path[1])-1) + \"\\n\")\n",
    "            for item in range(len(sequence)):\n",
    "\n",
    "                if sequence[item][0] == (-999.0, -999.0):\n",
    "                    counter += 1\n",
    "\n",
    "                f.write(str(item)+ \":\" + str(sequence[item][1]) + \":\" + str(sequence[item][0]) + \":\" + viterbi_path[1][item+1][1].name + \"\\n\")\n",
    "                #print(\"sequnce item: {0} state {1}\".format(sequence[item], viterbi_path[1][item+1][1].name))\n",
    "        print(\"There should be {0} gaps\".format(counter))\n",
    "    else:\n",
    "        print(\"Viterbi path is impossible for the given sequence\")"
   ]
  }
 ],
 "metadata": {
  "colab": {
   "authorship_tag": "ABX9TyPu6VCzJTL1+lf/QFgWU8bm",
   "collapsed_sections": [],
   "include_colab_link": true,
   "name": "story_15.ipynb",
   "provenance": []
  },
  "kernelspec": {
   "display_name": "Python 3",
   "language": "python",
   "name": "python3"
  },
  "language_info": {
   "codemirror_mode": {
    "name": "ipython",
    "version": 3
   },
   "file_extension": ".py",
   "mimetype": "text/x-python",
   "name": "python",
   "nbconvert_exporter": "python",
   "pygments_lexer": "ipython3",
   "version": "3.7.6"
  }
 },
 "nbformat": 4,
 "nbformat_minor": 1
}
